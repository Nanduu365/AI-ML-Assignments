{
 "cells": [
  {
   "cell_type": "markdown",
   "metadata": {},
   "source": [
    "# Importing Neccessary Libraries"
   ]
  },
  {
   "cell_type": "code",
   "execution_count": 1,
   "metadata": {},
   "outputs": [
    {
     "name": "stderr",
     "output_type": "stream",
     "text": [
      "[nltk_data] Downloading package punkt_tab to\n",
      "[nltk_data]     C:\\Users\\padma\\AppData\\Roaming\\nltk_data...\n",
      "[nltk_data]   Package punkt_tab is already up-to-date!\n",
      "[nltk_data] Downloading package stopwords to\n",
      "[nltk_data]     C:\\Users\\padma\\AppData\\Roaming\\nltk_data...\n",
      "[nltk_data]   Package stopwords is already up-to-date!\n",
      "[nltk_data] Downloading package wordnet to\n",
      "[nltk_data]     C:\\Users\\padma\\AppData\\Roaming\\nltk_data...\n",
      "[nltk_data]   Package wordnet is already up-to-date!\n"
     ]
    }
   ],
   "source": [
    "import numpy as np\n",
    "import pandas as pd\n",
    "import matplotlib.pyplot as plt\n",
    "\n",
    "import string\n",
    "import nltk\n",
    "nltk.download('punkt_tab')  #for tokenizatiion\n",
    "nltk.download('stopwords')  #for stopowords removal\n",
    "nltk.download('wordnet')    #for lemmatization\n",
    "\n",
    "from sklearn.feature_extraction.text import CountVectorizer,TfidfVectorizer\n",
    "from sklearn.model_selection import train_test_split, cross_val_score\n",
    "from sklearn.metrics import accuracy_score\n",
    "\n",
    "\n",
    "from gensim.utils import simple_preprocess\n",
    "from gensim.models import Word2Vec\n",
    "import gensim.downloader\n",
    "\n",
    "from sklearn.ensemble import RandomForestClassifier, BaggingClassifier, AdaBoostClassifier\n",
    "from sklearn.tree import DecisionTreeClassifier\n",
    "from sklearn.linear_model import LogisticRegression\n",
    "from sklearn.naive_bayes import GaussianNB\n",
    "from sklearn.neighbors import KNeighborsClassifier\n",
    "from xgboost import XGBClassifier\n",
    "\n",
    "\n",
    "from keras.layers import Dense,Dropout,Input\n",
    "from keras.models import Sequential"
   ]
  },
  {
   "cell_type": "markdown",
   "metadata": {},
   "source": [
    "# Importing Dataset"
   ]
  },
  {
   "cell_type": "code",
   "execution_count": 2,
   "metadata": {},
   "outputs": [],
   "source": [
    "filepath = r\"C:\\Users\\padma\\Desktop\\Computer_Science\\al-ml\\Datasets\\tweets.csv\"\n",
    "\n",
    "data = pd.read_csv(filepath,index_col='id')  # loading the csv file with the id column as the index column"
   ]
  },
  {
   "cell_type": "code",
   "execution_count": 3,
   "metadata": {},
   "outputs": [
    {
     "data": {
      "text/html": [
       "<div>\n",
       "<style scoped>\n",
       "    .dataframe tbody tr th:only-of-type {\n",
       "        vertical-align: middle;\n",
       "    }\n",
       "\n",
       "    .dataframe tbody tr th {\n",
       "        vertical-align: top;\n",
       "    }\n",
       "\n",
       "    .dataframe thead th {\n",
       "        text-align: right;\n",
       "    }\n",
       "</style>\n",
       "<table border=\"1\" class=\"dataframe\">\n",
       "  <thead>\n",
       "    <tr style=\"text-align: right;\">\n",
       "      <th></th>\n",
       "      <th>label</th>\n",
       "      <th>tweet</th>\n",
       "    </tr>\n",
       "    <tr>\n",
       "      <th>id</th>\n",
       "      <th></th>\n",
       "      <th></th>\n",
       "    </tr>\n",
       "  </thead>\n",
       "  <tbody>\n",
       "    <tr>\n",
       "      <th>1</th>\n",
       "      <td>0</td>\n",
       "      <td>#fingerprint #Pregnancy Test https://goo.gl/h1MfQV #android #apps #beautiful #cute #health #igers #iphoneonly #iphonesia #iphone</td>\n",
       "    </tr>\n",
       "    <tr>\n",
       "      <th>2</th>\n",
       "      <td>0</td>\n",
       "      <td>Finally a transparant silicon case ^^ Thanks to my uncle :) #yay #Sony #Xperia #S #sonyexperias… http://instagram.com/p/YGEt5JC6JM/</td>\n",
       "    </tr>\n",
       "    <tr>\n",
       "      <th>3</th>\n",
       "      <td>0</td>\n",
       "      <td>We love this! Would you go? #talk #makememories #unplug #relax #iphone #smartphone #wifi #connect... http://fb.me/6N3LsUpCu</td>\n",
       "    </tr>\n",
       "    <tr>\n",
       "      <th>4</th>\n",
       "      <td>0</td>\n",
       "      <td>I'm wired I know I'm George I was made that way ;) #iphone #cute #daventry #home http://instagr.am/p/Li_5_ujS4k/</td>\n",
       "    </tr>\n",
       "    <tr>\n",
       "      <th>5</th>\n",
       "      <td>1</td>\n",
       "      <td>What amazing service! Apple won't even talk to me about a question I have unless I pay them $19.95 for their stupid support!</td>\n",
       "    </tr>\n",
       "  </tbody>\n",
       "</table>\n",
       "</div>"
      ],
      "text/plain": [
       "    label  \\\n",
       "id          \n",
       "1       0   \n",
       "2       0   \n",
       "3       0   \n",
       "4       0   \n",
       "5       1   \n",
       "\n",
       "                                                                                                                                  tweet  \n",
       "id                                                                                                                                       \n",
       "1      #fingerprint #Pregnancy Test https://goo.gl/h1MfQV #android #apps #beautiful #cute #health #igers #iphoneonly #iphonesia #iphone  \n",
       "2   Finally a transparant silicon case ^^ Thanks to my uncle :) #yay #Sony #Xperia #S #sonyexperias… http://instagram.com/p/YGEt5JC6JM/  \n",
       "3           We love this! Would you go? #talk #makememories #unplug #relax #iphone #smartphone #wifi #connect... http://fb.me/6N3LsUpCu  \n",
       "4                      I'm wired I know I'm George I was made that way ;) #iphone #cute #daventry #home http://instagr.am/p/Li_5_ujS4k/  \n",
       "5          What amazing service! Apple won't even talk to me about a question I have unless I pay them $19.95 for their stupid support!  "
      ]
     },
     "execution_count": 3,
     "metadata": {},
     "output_type": "execute_result"
    }
   ],
   "source": [
    "pd.set_option('display.max_colwidth', None)\n",
    "\n",
    "data.head()\n",
    "\n",
    "# label column shows the sentimence -0 indicating negative sentment and 1 indicating positive sentment\n",
    "#tweet column incudes tweets of different people regarding technology companies"
   ]
  },
  {
   "cell_type": "markdown",
   "metadata": {},
   "source": [
    "# Creating Neccessary Functions"
   ]
  },
  {
   "cell_type": "markdown",
   "metadata": {},
   "source": [
    "### Creating Necessary functions for text preprocessing"
   ]
  },
  {
   "cell_type": "code",
   "execution_count": 4,
   "metadata": {},
   "outputs": [],
   "source": [
    "# punctuation removal\n",
    "\n",
    "def remove_punctuations(document):\n",
    "    '''Function to remove punctuations in a document.\n",
    "    (here document corresponds to a single review)'''\n",
    "\n",
    "    punc_free = []\n",
    "    for letter in document:\n",
    "        if letter not in string.punctuation:\n",
    "            punc_free.append(letter)\n",
    "    return ''.join(punc_free)  #returns the document without punctuations"
   ]
  },
  {
   "cell_type": "code",
   "execution_count": 5,
   "metadata": {},
   "outputs": [],
   "source": [
    "# Tokenization\n",
    "\n",
    "def tokenise(document):\n",
    "    ''' Converts a document/review to a list of words'''\n",
    "    tokens = nltk.word_tokenize(document)\n",
    "\n",
    "    return tokens  #returns a list of words"
   ]
  },
  {
   "cell_type": "code",
   "execution_count": 6,
   "metadata": {},
   "outputs": [],
   "source": [
    "# stopwords removal\n",
    "\n",
    "stopwords = nltk.corpus.stopwords.words('english')\n",
    "\n",
    "def remove_stopwords(words_list):\n",
    "    '''Function to remove the stop words from a list of words after tokenization'''\n",
    "\n",
    "    stopword_removed = []\n",
    "    for word in words_list:\n",
    "        if word not in stopwords:\n",
    "            stopword_removed.append(word)\n",
    "\n",
    "    return stopword_removed #returns a list of words"
   ]
  },
  {
   "cell_type": "code",
   "execution_count": 7,
   "metadata": {},
   "outputs": [],
   "source": [
    "# Lemmatization\n",
    "\n",
    "def lemmatizer(words_list):\n",
    "    '''Convert each word in a list to its lemmatized form'''\n",
    "    lemmatized = []\n",
    "    for word in words_list:\n",
    "        lemmatized.append(nltk.WordNetLemmatizer().lemmatize(word))\n",
    "    \n",
    "    return lemmatized  #returns a list of lemmatized words\n"
   ]
  },
  {
   "cell_type": "code",
   "execution_count": 8,
   "metadata": {},
   "outputs": [],
   "source": [
    "# Combining all the functions\n",
    "\n",
    "def text_preprocessor(corpus):\n",
    "    '''Function does all the essential text preprocessing on corpus and returns \n",
    "    the corpus containing each document as a single string'''\n",
    "\n",
    "    preprocessed = []\n",
    "\n",
    "    for document in corpus:\n",
    "        new_doc = remove_punctuations(document)\n",
    "        new_doc = new_doc.lower()\n",
    "        words_list = tokenise(new_doc)\n",
    "        words_list = remove_stopwords(words_list)\n",
    "        words_list = lemmatizer(words_list)\n",
    "\n",
    "        preprocessed.append(' '.join(words_list))\n",
    "\n",
    "    return preprocessed  #returns the corpus of documents after all the text preprocessing"
   ]
  },
  {
   "cell_type": "code",
   "execution_count": 9,
   "metadata": {},
   "outputs": [
    {
     "data": {
      "text/plain": [
       "['best joke ever heard entire life mesmerising']"
      ]
     },
     "execution_count": 9,
     "metadata": {},
     "output_type": "execute_result"
    }
   ],
   "source": [
    "# testing the functions\n",
    "input = ['This is the best joke i have ever heard in my entire life and is so mesmerising']\n",
    "\n",
    "text_preprocessor(input)"
   ]
  },
  {
   "cell_type": "markdown",
   "metadata": {},
   "source": [
    "### Function for multiple model fitting and selecting the best"
   ]
  },
  {
   "cell_type": "code",
   "execution_count": 10,
   "metadata": {},
   "outputs": [],
   "source": [
    "def multiple_model_fit(x_train,x_test,y_train,y_test):\n",
    "    model_list = [RandomForestClassifier(),\n",
    "              DecisionTreeClassifier(),\n",
    "              LogisticRegression(),\n",
    "              KNeighborsClassifier(),\n",
    "              AdaBoostClassifier(algorithm='SAMME'),\n",
    "              BaggingClassifier(),\n",
    "              XGBClassifier()]\n",
    "    accuracy_comparison = {}\n",
    "    for model in model_list:\n",
    "        classifier = model\n",
    "        classifier.fit(x_train,y_train)\n",
    "        y_pred = classifier.predict(x_test)\n",
    "        cross_val_acc = cross_val_score(classifier,x_train,y_train, cv=10,scoring= 'accuracy')\n",
    "        test_acc = accuracy_score(y_pred,y_test)\n",
    "        train_acc = accuracy_score(classifier.predict(x_train),y_train)\n",
    "\n",
    "        accuracy_comparison[str(classifier.__class__.__name__)] = {'train_acc': train_acc,\n",
    "                                                                   'cross_val_acc': np.average(cross_val_acc),\n",
    "                                                                   'test_acc': test_acc}\n",
    "\n",
    "    return accuracy_comparison"
   ]
  },
  {
   "cell_type": "markdown",
   "metadata": {},
   "source": [
    "# Preprocessing"
   ]
  },
  {
   "cell_type": "markdown",
   "metadata": {},
   "source": [
    "### Preprocessing the corpus of data using the above functions"
   ]
  },
  {
   "cell_type": "code",
   "execution_count": 11,
   "metadata": {},
   "outputs": [
    {
     "data": {
      "text/plain": [
       "label    0\n",
       "tweet    0\n",
       "dtype: int64"
      ]
     },
     "execution_count": 11,
     "metadata": {},
     "output_type": "execute_result"
    }
   ],
   "source": [
    "#Checking if there is any nan values in the data\n",
    "data.isna().sum()"
   ]
  },
  {
   "cell_type": "code",
   "execution_count": 12,
   "metadata": {},
   "outputs": [
    {
     "data": {
      "text/plain": [
       "(7920, 2)"
      ]
     },
     "execution_count": 12,
     "metadata": {},
     "output_type": "execute_result"
    }
   ],
   "source": [
    "data.shape"
   ]
  },
  {
   "cell_type": "code",
   "execution_count": 13,
   "metadata": {},
   "outputs": [],
   "source": [
    "data['preprocessed'] = text_preprocessor(data['tweet'])"
   ]
  },
  {
   "cell_type": "code",
   "execution_count": 14,
   "metadata": {},
   "outputs": [
    {
     "data": {
      "text/html": [
       "<div>\n",
       "<style scoped>\n",
       "    .dataframe tbody tr th:only-of-type {\n",
       "        vertical-align: middle;\n",
       "    }\n",
       "\n",
       "    .dataframe tbody tr th {\n",
       "        vertical-align: top;\n",
       "    }\n",
       "\n",
       "    .dataframe thead th {\n",
       "        text-align: right;\n",
       "    }\n",
       "</style>\n",
       "<table border=\"1\" class=\"dataframe\">\n",
       "  <thead>\n",
       "    <tr style=\"text-align: right;\">\n",
       "      <th></th>\n",
       "      <th>label</th>\n",
       "      <th>tweet</th>\n",
       "      <th>preprocessed</th>\n",
       "    </tr>\n",
       "    <tr>\n",
       "      <th>id</th>\n",
       "      <th></th>\n",
       "      <th></th>\n",
       "      <th></th>\n",
       "    </tr>\n",
       "  </thead>\n",
       "  <tbody>\n",
       "    <tr>\n",
       "      <th>1</th>\n",
       "      <td>0</td>\n",
       "      <td>#fingerprint #Pregnancy Test https://goo.gl/h1MfQV #android #apps #beautiful #cute #health #igers #iphoneonly #iphonesia #iphone</td>\n",
       "      <td>fingerprint pregnancy test httpsgooglh1mfqv android apps beautiful cute health igers iphoneonly iphonesia iphone</td>\n",
       "    </tr>\n",
       "    <tr>\n",
       "      <th>2</th>\n",
       "      <td>0</td>\n",
       "      <td>Finally a transparant silicon case ^^ Thanks to my uncle :) #yay #Sony #Xperia #S #sonyexperias… http://instagram.com/p/YGEt5JC6JM/</td>\n",
       "      <td>finally transparant silicon case thanks uncle yay sony xperia sonyexperias… httpinstagramcompyget5jc6jm</td>\n",
       "    </tr>\n",
       "    <tr>\n",
       "      <th>3</th>\n",
       "      <td>0</td>\n",
       "      <td>We love this! Would you go? #talk #makememories #unplug #relax #iphone #smartphone #wifi #connect... http://fb.me/6N3LsUpCu</td>\n",
       "      <td>love would go talk makememories unplug relax iphone smartphone wifi connect httpfbme6n3lsupcu</td>\n",
       "    </tr>\n",
       "    <tr>\n",
       "      <th>4</th>\n",
       "      <td>0</td>\n",
       "      <td>I'm wired I know I'm George I was made that way ;) #iphone #cute #daventry #home http://instagr.am/p/Li_5_ujS4k/</td>\n",
       "      <td>im wired know im george made way iphone cute daventry home httpinstagrampli5ujs4k</td>\n",
       "    </tr>\n",
       "    <tr>\n",
       "      <th>5</th>\n",
       "      <td>1</td>\n",
       "      <td>What amazing service! Apple won't even talk to me about a question I have unless I pay them $19.95 for their stupid support!</td>\n",
       "      <td>amazing service apple wont even talk question unless pay 1995 stupid support</td>\n",
       "    </tr>\n",
       "    <tr>\n",
       "      <th>...</th>\n",
       "      <td>...</td>\n",
       "      <td>...</td>\n",
       "      <td>...</td>\n",
       "    </tr>\n",
       "    <tr>\n",
       "      <th>7916</th>\n",
       "      <td>0</td>\n",
       "      <td>Live out loud #lol #liveoutloud #selfie #smile #sony #music #headphones https://instagram.com/p/5spiNsJ_c9/</td>\n",
       "      <td>live loud lol liveoutloud selfie smile sony music headphone httpsinstagramcomp5spinsjc9</td>\n",
       "    </tr>\n",
       "    <tr>\n",
       "      <th>7917</th>\n",
       "      <td>0</td>\n",
       "      <td>We would like to wish you an amazing day! Make every minute count #tls #today #iphone #accessories #news #life February 23, 2017 at 0…</td>\n",
       "      <td>would like wish amazing day make every minute count tl today iphone accessory news life february 23 2017 0…</td>\n",
       "    </tr>\n",
       "    <tr>\n",
       "      <th>7918</th>\n",
       "      <td>0</td>\n",
       "      <td>Helping my lovely 90 year old neighbor with her iPad this morning has just made me realise that 'I' don't actually need an I pad!</td>\n",
       "      <td>helping lovely 90 year old neighbor ipad morning made realise dont actually need pad</td>\n",
       "    </tr>\n",
       "    <tr>\n",
       "      <th>7919</th>\n",
       "      <td>0</td>\n",
       "      <td>Finally got my #smart #pocket #wifi stay connected anytime,anywhere! #ipad and #samsung #s3 #gadget # http://instagr.am/p/U-53G_vJU8/</td>\n",
       "      <td>finally got smart pocket wifi stay connected anytimeanywhere ipad samsung s3 gadget httpinstagrampu53gvju8</td>\n",
       "    </tr>\n",
       "    <tr>\n",
       "      <th>7920</th>\n",
       "      <td>0</td>\n",
       "      <td>Apple Barcelona!!! #Apple #Store #BCN #Barcelona #travel #iphone #selfie #fly #fun #cabincrew… http://instagram.com/p/wBApVzpCl3/</td>\n",
       "      <td>apple barcelona apple store bcn barcelona travel iphone selfie fly fun cabincrew… httpinstagramcompwbapvzpcl3</td>\n",
       "    </tr>\n",
       "  </tbody>\n",
       "</table>\n",
       "<p>7920 rows × 3 columns</p>\n",
       "</div>"
      ],
      "text/plain": [
       "      label  \\\n",
       "id            \n",
       "1         0   \n",
       "2         0   \n",
       "3         0   \n",
       "4         0   \n",
       "5         1   \n",
       "...     ...   \n",
       "7916      0   \n",
       "7917      0   \n",
       "7918      0   \n",
       "7919      0   \n",
       "7920      0   \n",
       "\n",
       "                                                                                                                                       tweet  \\\n",
       "id                                                                                                                                             \n",
       "1           #fingerprint #Pregnancy Test https://goo.gl/h1MfQV #android #apps #beautiful #cute #health #igers #iphoneonly #iphonesia #iphone   \n",
       "2        Finally a transparant silicon case ^^ Thanks to my uncle :) #yay #Sony #Xperia #S #sonyexperias… http://instagram.com/p/YGEt5JC6JM/   \n",
       "3                We love this! Would you go? #talk #makememories #unplug #relax #iphone #smartphone #wifi #connect... http://fb.me/6N3LsUpCu   \n",
       "4                           I'm wired I know I'm George I was made that way ;) #iphone #cute #daventry #home http://instagr.am/p/Li_5_ujS4k/   \n",
       "5               What amazing service! Apple won't even talk to me about a question I have unless I pay them $19.95 for their stupid support!   \n",
       "...                                                                                                                                      ...   \n",
       "7916                             Live out loud #lol #liveoutloud #selfie #smile #sony #music #headphones https://instagram.com/p/5spiNsJ_c9/   \n",
       "7917  We would like to wish you an amazing day! Make every minute count #tls #today #iphone #accessories #news #life February 23, 2017 at 0…   \n",
       "7918       Helping my lovely 90 year old neighbor with her iPad this morning has just made me realise that 'I' don't actually need an I pad!   \n",
       "7919   Finally got my #smart #pocket #wifi stay connected anytime,anywhere! #ipad and #samsung #s3 #gadget # http://instagr.am/p/U-53G_vJU8/   \n",
       "7920       Apple Barcelona!!! #Apple #Store #BCN #Barcelona #travel #iphone #selfie #fly #fun #cabincrew… http://instagram.com/p/wBApVzpCl3/   \n",
       "\n",
       "                                                                                                          preprocessed  \n",
       "id                                                                                                                      \n",
       "1     fingerprint pregnancy test httpsgooglh1mfqv android apps beautiful cute health igers iphoneonly iphonesia iphone  \n",
       "2              finally transparant silicon case thanks uncle yay sony xperia sonyexperias… httpinstagramcompyget5jc6jm  \n",
       "3                        love would go talk makememories unplug relax iphone smartphone wifi connect httpfbme6n3lsupcu  \n",
       "4                                    im wired know im george made way iphone cute daventry home httpinstagrampli5ujs4k  \n",
       "5                                         amazing service apple wont even talk question unless pay 1995 stupid support  \n",
       "...                                                                                                                ...  \n",
       "7916                           live loud lol liveoutloud selfie smile sony music headphone httpsinstagramcomp5spinsjc9  \n",
       "7917       would like wish amazing day make every minute count tl today iphone accessory news life february 23 2017 0…  \n",
       "7918                              helping lovely 90 year old neighbor ipad morning made realise dont actually need pad  \n",
       "7919        finally got smart pocket wifi stay connected anytimeanywhere ipad samsung s3 gadget httpinstagrampu53gvju8  \n",
       "7920     apple barcelona apple store bcn barcelona travel iphone selfie fly fun cabincrew… httpinstagramcompwbapvzpcl3  \n",
       "\n",
       "[7920 rows x 3 columns]"
      ]
     },
     "execution_count": 14,
     "metadata": {},
     "output_type": "execute_result"
    }
   ],
   "source": [
    "data"
   ]
  },
  {
   "cell_type": "markdown",
   "metadata": {},
   "source": [
    "# BOW Model"
   ]
  },
  {
   "cell_type": "code",
   "execution_count": 15,
   "metadata": {},
   "outputs": [],
   "source": [
    "x_bow = CountVectorizer().fit_transform(data['preprocessed'])  #this is a sparse matrix\n",
    "y = data['label']"
   ]
  },
  {
   "cell_type": "markdown",
   "metadata": {},
   "source": [
    "## Train Test Split\n"
   ]
  },
  {
   "cell_type": "code",
   "execution_count": 16,
   "metadata": {},
   "outputs": [],
   "source": [
    "x_train_bow , x_test_bow, y_train, y_test = train_test_split(x_bow,y,test_size = 0.2, random_state = 30)"
   ]
  },
  {
   "cell_type": "markdown",
   "metadata": {},
   "source": [
    "## Fitting the data to a model"
   ]
  },
  {
   "cell_type": "code",
   "execution_count": 17,
   "metadata": {},
   "outputs": [
    {
     "data": {
      "text/html": [
       "<style>#sk-container-id-1 {\n",
       "  /* Definition of color scheme common for light and dark mode */\n",
       "  --sklearn-color-text: black;\n",
       "  --sklearn-color-line: gray;\n",
       "  /* Definition of color scheme for unfitted estimators */\n",
       "  --sklearn-color-unfitted-level-0: #fff5e6;\n",
       "  --sklearn-color-unfitted-level-1: #f6e4d2;\n",
       "  --sklearn-color-unfitted-level-2: #ffe0b3;\n",
       "  --sklearn-color-unfitted-level-3: chocolate;\n",
       "  /* Definition of color scheme for fitted estimators */\n",
       "  --sklearn-color-fitted-level-0: #f0f8ff;\n",
       "  --sklearn-color-fitted-level-1: #d4ebff;\n",
       "  --sklearn-color-fitted-level-2: #b3dbfd;\n",
       "  --sklearn-color-fitted-level-3: cornflowerblue;\n",
       "\n",
       "  /* Specific color for light theme */\n",
       "  --sklearn-color-text-on-default-background: var(--sg-text-color, var(--theme-code-foreground, var(--jp-content-font-color1, black)));\n",
       "  --sklearn-color-background: var(--sg-background-color, var(--theme-background, var(--jp-layout-color0, white)));\n",
       "  --sklearn-color-border-box: var(--sg-text-color, var(--theme-code-foreground, var(--jp-content-font-color1, black)));\n",
       "  --sklearn-color-icon: #696969;\n",
       "\n",
       "  @media (prefers-color-scheme: dark) {\n",
       "    /* Redefinition of color scheme for dark theme */\n",
       "    --sklearn-color-text-on-default-background: var(--sg-text-color, var(--theme-code-foreground, var(--jp-content-font-color1, white)));\n",
       "    --sklearn-color-background: var(--sg-background-color, var(--theme-background, var(--jp-layout-color0, #111)));\n",
       "    --sklearn-color-border-box: var(--sg-text-color, var(--theme-code-foreground, var(--jp-content-font-color1, white)));\n",
       "    --sklearn-color-icon: #878787;\n",
       "  }\n",
       "}\n",
       "\n",
       "#sk-container-id-1 {\n",
       "  color: var(--sklearn-color-text);\n",
       "}\n",
       "\n",
       "#sk-container-id-1 pre {\n",
       "  padding: 0;\n",
       "}\n",
       "\n",
       "#sk-container-id-1 input.sk-hidden--visually {\n",
       "  border: 0;\n",
       "  clip: rect(1px 1px 1px 1px);\n",
       "  clip: rect(1px, 1px, 1px, 1px);\n",
       "  height: 1px;\n",
       "  margin: -1px;\n",
       "  overflow: hidden;\n",
       "  padding: 0;\n",
       "  position: absolute;\n",
       "  width: 1px;\n",
       "}\n",
       "\n",
       "#sk-container-id-1 div.sk-dashed-wrapped {\n",
       "  border: 1px dashed var(--sklearn-color-line);\n",
       "  margin: 0 0.4em 0.5em 0.4em;\n",
       "  box-sizing: border-box;\n",
       "  padding-bottom: 0.4em;\n",
       "  background-color: var(--sklearn-color-background);\n",
       "}\n",
       "\n",
       "#sk-container-id-1 div.sk-container {\n",
       "  /* jupyter's `normalize.less` sets `[hidden] { display: none; }`\n",
       "     but bootstrap.min.css set `[hidden] { display: none !important; }`\n",
       "     so we also need the `!important` here to be able to override the\n",
       "     default hidden behavior on the sphinx rendered scikit-learn.org.\n",
       "     See: https://github.com/scikit-learn/scikit-learn/issues/21755 */\n",
       "  display: inline-block !important;\n",
       "  position: relative;\n",
       "}\n",
       "\n",
       "#sk-container-id-1 div.sk-text-repr-fallback {\n",
       "  display: none;\n",
       "}\n",
       "\n",
       "div.sk-parallel-item,\n",
       "div.sk-serial,\n",
       "div.sk-item {\n",
       "  /* draw centered vertical line to link estimators */\n",
       "  background-image: linear-gradient(var(--sklearn-color-text-on-default-background), var(--sklearn-color-text-on-default-background));\n",
       "  background-size: 2px 100%;\n",
       "  background-repeat: no-repeat;\n",
       "  background-position: center center;\n",
       "}\n",
       "\n",
       "/* Parallel-specific style estimator block */\n",
       "\n",
       "#sk-container-id-1 div.sk-parallel-item::after {\n",
       "  content: \"\";\n",
       "  width: 100%;\n",
       "  border-bottom: 2px solid var(--sklearn-color-text-on-default-background);\n",
       "  flex-grow: 1;\n",
       "}\n",
       "\n",
       "#sk-container-id-1 div.sk-parallel {\n",
       "  display: flex;\n",
       "  align-items: stretch;\n",
       "  justify-content: center;\n",
       "  background-color: var(--sklearn-color-background);\n",
       "  position: relative;\n",
       "}\n",
       "\n",
       "#sk-container-id-1 div.sk-parallel-item {\n",
       "  display: flex;\n",
       "  flex-direction: column;\n",
       "}\n",
       "\n",
       "#sk-container-id-1 div.sk-parallel-item:first-child::after {\n",
       "  align-self: flex-end;\n",
       "  width: 50%;\n",
       "}\n",
       "\n",
       "#sk-container-id-1 div.sk-parallel-item:last-child::after {\n",
       "  align-self: flex-start;\n",
       "  width: 50%;\n",
       "}\n",
       "\n",
       "#sk-container-id-1 div.sk-parallel-item:only-child::after {\n",
       "  width: 0;\n",
       "}\n",
       "\n",
       "/* Serial-specific style estimator block */\n",
       "\n",
       "#sk-container-id-1 div.sk-serial {\n",
       "  display: flex;\n",
       "  flex-direction: column;\n",
       "  align-items: center;\n",
       "  background-color: var(--sklearn-color-background);\n",
       "  padding-right: 1em;\n",
       "  padding-left: 1em;\n",
       "}\n",
       "\n",
       "\n",
       "/* Toggleable style: style used for estimator/Pipeline/ColumnTransformer box that is\n",
       "clickable and can be expanded/collapsed.\n",
       "- Pipeline and ColumnTransformer use this feature and define the default style\n",
       "- Estimators will overwrite some part of the style using the `sk-estimator` class\n",
       "*/\n",
       "\n",
       "/* Pipeline and ColumnTransformer style (default) */\n",
       "\n",
       "#sk-container-id-1 div.sk-toggleable {\n",
       "  /* Default theme specific background. It is overwritten whether we have a\n",
       "  specific estimator or a Pipeline/ColumnTransformer */\n",
       "  background-color: var(--sklearn-color-background);\n",
       "}\n",
       "\n",
       "/* Toggleable label */\n",
       "#sk-container-id-1 label.sk-toggleable__label {\n",
       "  cursor: pointer;\n",
       "  display: block;\n",
       "  width: 100%;\n",
       "  margin-bottom: 0;\n",
       "  padding: 0.5em;\n",
       "  box-sizing: border-box;\n",
       "  text-align: center;\n",
       "}\n",
       "\n",
       "#sk-container-id-1 label.sk-toggleable__label-arrow:before {\n",
       "  /* Arrow on the left of the label */\n",
       "  content: \"▸\";\n",
       "  float: left;\n",
       "  margin-right: 0.25em;\n",
       "  color: var(--sklearn-color-icon);\n",
       "}\n",
       "\n",
       "#sk-container-id-1 label.sk-toggleable__label-arrow:hover:before {\n",
       "  color: var(--sklearn-color-text);\n",
       "}\n",
       "\n",
       "/* Toggleable content - dropdown */\n",
       "\n",
       "#sk-container-id-1 div.sk-toggleable__content {\n",
       "  max-height: 0;\n",
       "  max-width: 0;\n",
       "  overflow: hidden;\n",
       "  text-align: left;\n",
       "  /* unfitted */\n",
       "  background-color: var(--sklearn-color-unfitted-level-0);\n",
       "}\n",
       "\n",
       "#sk-container-id-1 div.sk-toggleable__content.fitted {\n",
       "  /* fitted */\n",
       "  background-color: var(--sklearn-color-fitted-level-0);\n",
       "}\n",
       "\n",
       "#sk-container-id-1 div.sk-toggleable__content pre {\n",
       "  margin: 0.2em;\n",
       "  border-radius: 0.25em;\n",
       "  color: var(--sklearn-color-text);\n",
       "  /* unfitted */\n",
       "  background-color: var(--sklearn-color-unfitted-level-0);\n",
       "}\n",
       "\n",
       "#sk-container-id-1 div.sk-toggleable__content.fitted pre {\n",
       "  /* unfitted */\n",
       "  background-color: var(--sklearn-color-fitted-level-0);\n",
       "}\n",
       "\n",
       "#sk-container-id-1 input.sk-toggleable__control:checked~div.sk-toggleable__content {\n",
       "  /* Expand drop-down */\n",
       "  max-height: 200px;\n",
       "  max-width: 100%;\n",
       "  overflow: auto;\n",
       "}\n",
       "\n",
       "#sk-container-id-1 input.sk-toggleable__control:checked~label.sk-toggleable__label-arrow:before {\n",
       "  content: \"▾\";\n",
       "}\n",
       "\n",
       "/* Pipeline/ColumnTransformer-specific style */\n",
       "\n",
       "#sk-container-id-1 div.sk-label input.sk-toggleable__control:checked~label.sk-toggleable__label {\n",
       "  color: var(--sklearn-color-text);\n",
       "  background-color: var(--sklearn-color-unfitted-level-2);\n",
       "}\n",
       "\n",
       "#sk-container-id-1 div.sk-label.fitted input.sk-toggleable__control:checked~label.sk-toggleable__label {\n",
       "  background-color: var(--sklearn-color-fitted-level-2);\n",
       "}\n",
       "\n",
       "/* Estimator-specific style */\n",
       "\n",
       "/* Colorize estimator box */\n",
       "#sk-container-id-1 div.sk-estimator input.sk-toggleable__control:checked~label.sk-toggleable__label {\n",
       "  /* unfitted */\n",
       "  background-color: var(--sklearn-color-unfitted-level-2);\n",
       "}\n",
       "\n",
       "#sk-container-id-1 div.sk-estimator.fitted input.sk-toggleable__control:checked~label.sk-toggleable__label {\n",
       "  /* fitted */\n",
       "  background-color: var(--sklearn-color-fitted-level-2);\n",
       "}\n",
       "\n",
       "#sk-container-id-1 div.sk-label label.sk-toggleable__label,\n",
       "#sk-container-id-1 div.sk-label label {\n",
       "  /* The background is the default theme color */\n",
       "  color: var(--sklearn-color-text-on-default-background);\n",
       "}\n",
       "\n",
       "/* On hover, darken the color of the background */\n",
       "#sk-container-id-1 div.sk-label:hover label.sk-toggleable__label {\n",
       "  color: var(--sklearn-color-text);\n",
       "  background-color: var(--sklearn-color-unfitted-level-2);\n",
       "}\n",
       "\n",
       "/* Label box, darken color on hover, fitted */\n",
       "#sk-container-id-1 div.sk-label.fitted:hover label.sk-toggleable__label.fitted {\n",
       "  color: var(--sklearn-color-text);\n",
       "  background-color: var(--sklearn-color-fitted-level-2);\n",
       "}\n",
       "\n",
       "/* Estimator label */\n",
       "\n",
       "#sk-container-id-1 div.sk-label label {\n",
       "  font-family: monospace;\n",
       "  font-weight: bold;\n",
       "  display: inline-block;\n",
       "  line-height: 1.2em;\n",
       "}\n",
       "\n",
       "#sk-container-id-1 div.sk-label-container {\n",
       "  text-align: center;\n",
       "}\n",
       "\n",
       "/* Estimator-specific */\n",
       "#sk-container-id-1 div.sk-estimator {\n",
       "  font-family: monospace;\n",
       "  border: 1px dotted var(--sklearn-color-border-box);\n",
       "  border-radius: 0.25em;\n",
       "  box-sizing: border-box;\n",
       "  margin-bottom: 0.5em;\n",
       "  /* unfitted */\n",
       "  background-color: var(--sklearn-color-unfitted-level-0);\n",
       "}\n",
       "\n",
       "#sk-container-id-1 div.sk-estimator.fitted {\n",
       "  /* fitted */\n",
       "  background-color: var(--sklearn-color-fitted-level-0);\n",
       "}\n",
       "\n",
       "/* on hover */\n",
       "#sk-container-id-1 div.sk-estimator:hover {\n",
       "  /* unfitted */\n",
       "  background-color: var(--sklearn-color-unfitted-level-2);\n",
       "}\n",
       "\n",
       "#sk-container-id-1 div.sk-estimator.fitted:hover {\n",
       "  /* fitted */\n",
       "  background-color: var(--sklearn-color-fitted-level-2);\n",
       "}\n",
       "\n",
       "/* Specification for estimator info (e.g. \"i\" and \"?\") */\n",
       "\n",
       "/* Common style for \"i\" and \"?\" */\n",
       "\n",
       ".sk-estimator-doc-link,\n",
       "a:link.sk-estimator-doc-link,\n",
       "a:visited.sk-estimator-doc-link {\n",
       "  float: right;\n",
       "  font-size: smaller;\n",
       "  line-height: 1em;\n",
       "  font-family: monospace;\n",
       "  background-color: var(--sklearn-color-background);\n",
       "  border-radius: 1em;\n",
       "  height: 1em;\n",
       "  width: 1em;\n",
       "  text-decoration: none !important;\n",
       "  margin-left: 1ex;\n",
       "  /* unfitted */\n",
       "  border: var(--sklearn-color-unfitted-level-1) 1pt solid;\n",
       "  color: var(--sklearn-color-unfitted-level-1);\n",
       "}\n",
       "\n",
       ".sk-estimator-doc-link.fitted,\n",
       "a:link.sk-estimator-doc-link.fitted,\n",
       "a:visited.sk-estimator-doc-link.fitted {\n",
       "  /* fitted */\n",
       "  border: var(--sklearn-color-fitted-level-1) 1pt solid;\n",
       "  color: var(--sklearn-color-fitted-level-1);\n",
       "}\n",
       "\n",
       "/* On hover */\n",
       "div.sk-estimator:hover .sk-estimator-doc-link:hover,\n",
       ".sk-estimator-doc-link:hover,\n",
       "div.sk-label-container:hover .sk-estimator-doc-link:hover,\n",
       ".sk-estimator-doc-link:hover {\n",
       "  /* unfitted */\n",
       "  background-color: var(--sklearn-color-unfitted-level-3);\n",
       "  color: var(--sklearn-color-background);\n",
       "  text-decoration: none;\n",
       "}\n",
       "\n",
       "div.sk-estimator.fitted:hover .sk-estimator-doc-link.fitted:hover,\n",
       ".sk-estimator-doc-link.fitted:hover,\n",
       "div.sk-label-container:hover .sk-estimator-doc-link.fitted:hover,\n",
       ".sk-estimator-doc-link.fitted:hover {\n",
       "  /* fitted */\n",
       "  background-color: var(--sklearn-color-fitted-level-3);\n",
       "  color: var(--sklearn-color-background);\n",
       "  text-decoration: none;\n",
       "}\n",
       "\n",
       "/* Span, style for the box shown on hovering the info icon */\n",
       ".sk-estimator-doc-link span {\n",
       "  display: none;\n",
       "  z-index: 9999;\n",
       "  position: relative;\n",
       "  font-weight: normal;\n",
       "  right: .2ex;\n",
       "  padding: .5ex;\n",
       "  margin: .5ex;\n",
       "  width: min-content;\n",
       "  min-width: 20ex;\n",
       "  max-width: 50ex;\n",
       "  color: var(--sklearn-color-text);\n",
       "  box-shadow: 2pt 2pt 4pt #999;\n",
       "  /* unfitted */\n",
       "  background: var(--sklearn-color-unfitted-level-0);\n",
       "  border: .5pt solid var(--sklearn-color-unfitted-level-3);\n",
       "}\n",
       "\n",
       ".sk-estimator-doc-link.fitted span {\n",
       "  /* fitted */\n",
       "  background: var(--sklearn-color-fitted-level-0);\n",
       "  border: var(--sklearn-color-fitted-level-3);\n",
       "}\n",
       "\n",
       ".sk-estimator-doc-link:hover span {\n",
       "  display: block;\n",
       "}\n",
       "\n",
       "/* \"?\"-specific style due to the `<a>` HTML tag */\n",
       "\n",
       "#sk-container-id-1 a.estimator_doc_link {\n",
       "  float: right;\n",
       "  font-size: 1rem;\n",
       "  line-height: 1em;\n",
       "  font-family: monospace;\n",
       "  background-color: var(--sklearn-color-background);\n",
       "  border-radius: 1rem;\n",
       "  height: 1rem;\n",
       "  width: 1rem;\n",
       "  text-decoration: none;\n",
       "  /* unfitted */\n",
       "  color: var(--sklearn-color-unfitted-level-1);\n",
       "  border: var(--sklearn-color-unfitted-level-1) 1pt solid;\n",
       "}\n",
       "\n",
       "#sk-container-id-1 a.estimator_doc_link.fitted {\n",
       "  /* fitted */\n",
       "  border: var(--sklearn-color-fitted-level-1) 1pt solid;\n",
       "  color: var(--sklearn-color-fitted-level-1);\n",
       "}\n",
       "\n",
       "/* On hover */\n",
       "#sk-container-id-1 a.estimator_doc_link:hover {\n",
       "  /* unfitted */\n",
       "  background-color: var(--sklearn-color-unfitted-level-3);\n",
       "  color: var(--sklearn-color-background);\n",
       "  text-decoration: none;\n",
       "}\n",
       "\n",
       "#sk-container-id-1 a.estimator_doc_link.fitted:hover {\n",
       "  /* fitted */\n",
       "  background-color: var(--sklearn-color-fitted-level-3);\n",
       "}\n",
       "</style><div id=\"sk-container-id-1\" class=\"sk-top-container\"><div class=\"sk-text-repr-fallback\"><pre>RandomForestClassifier()</pre><b>In a Jupyter environment, please rerun this cell to show the HTML representation or trust the notebook. <br />On GitHub, the HTML representation is unable to render, please try loading this page with nbviewer.org.</b></div><div class=\"sk-container\" hidden><div class=\"sk-item\"><div class=\"sk-estimator fitted sk-toggleable\"><input class=\"sk-toggleable__control sk-hidden--visually\" id=\"sk-estimator-id-1\" type=\"checkbox\" checked><label for=\"sk-estimator-id-1\" class=\"sk-toggleable__label fitted sk-toggleable__label-arrow fitted\">&nbsp;&nbsp;RandomForestClassifier<a class=\"sk-estimator-doc-link fitted\" rel=\"noreferrer\" target=\"_blank\" href=\"https://scikit-learn.org/1.4/modules/generated/sklearn.ensemble.RandomForestClassifier.html\">?<span>Documentation for RandomForestClassifier</span></a><span class=\"sk-estimator-doc-link fitted\">i<span>Fitted</span></span></label><div class=\"sk-toggleable__content fitted\"><pre>RandomForestClassifier()</pre></div> </div></div></div></div>"
      ],
      "text/plain": [
       "RandomForestClassifier()"
      ]
     },
     "execution_count": 17,
     "metadata": {},
     "output_type": "execute_result"
    }
   ],
   "source": [
    "classifier = RandomForestClassifier(n_estimators=100)\n",
    "classifier.fit(x_train_bow,y_train)"
   ]
  },
  {
   "cell_type": "markdown",
   "metadata": {},
   "source": [
    "## Prediction and Checking accuracy"
   ]
  },
  {
   "cell_type": "code",
   "execution_count": 18,
   "metadata": {},
   "outputs": [],
   "source": [
    "y_pred_bow = classifier.predict(x_test_bow)"
   ]
  },
  {
   "cell_type": "code",
   "execution_count": 19,
   "metadata": {},
   "outputs": [
    {
     "data": {
      "text/plain": [
       "0.8693181818181818"
      ]
     },
     "execution_count": 19,
     "metadata": {},
     "output_type": "execute_result"
    }
   ],
   "source": [
    "accuracy_score(y_pred_bow,y_test)"
   ]
  },
  {
   "cell_type": "code",
   "execution_count": 20,
   "metadata": {},
   "outputs": [],
   "source": [
    "results = multiple_model_fit(x_train_bow,x_test_bow,y_train,y_test)\n"
   ]
  },
  {
   "cell_type": "code",
   "execution_count": 21,
   "metadata": {},
   "outputs": [
    {
     "name": "stdout",
     "output_type": "stream",
     "text": [
      "RandomForestClassifier ; {'train_acc': 1.0, 'cross_val_acc': 0.863478204534015, 'test_acc': 0.8674242424242424}\n",
      "DecisionTreeClassifier ; {'train_acc': 1.0, 'cross_val_acc': 0.8434314590279127, 'test_acc': 0.8396464646464646}\n",
      "LogisticRegression ; {'train_acc': 0.9804292929292929, 'cross_val_acc': 0.882728332859898, 'test_acc': 0.8768939393939394}\n",
      "KNeighborsClassifier ; {'train_acc': 0.8746843434343434, 'cross_val_acc': 0.7548980619054027, 'test_acc': 0.7619949494949495}\n",
      "AdaBoostClassifier ; {'train_acc': 0.7689393939393939, 'cross_val_acc': 0.764359790891105, 'test_acc': 0.7569444444444444}\n",
      "BaggingClassifier ; {'train_acc': 0.9876893939393939, 'cross_val_acc': 0.8579574506256822, 'test_acc': 0.8680555555555556}\n",
      "XGBClassifier ; {'train_acc': 0.9187184343434344, 'cross_val_acc': 0.8727899292837173, 'test_acc': 0.88510101010101}\n"
     ]
    }
   ],
   "source": [
    "for key, value in results.items():\n",
    "    print(key,';', value)\n"
   ]
  },
  {
   "cell_type": "markdown",
   "metadata": {},
   "source": [
    "some of the models above are overfitted while others are giving good results"
   ]
  },
  {
   "cell_type": "markdown",
   "metadata": {},
   "source": [
    "# TF-IDF Model"
   ]
  },
  {
   "cell_type": "code",
   "execution_count": 22,
   "metadata": {},
   "outputs": [],
   "source": [
    "x_tfidf = TfidfVectorizer().fit_transform(data['preprocessed'])  #this is a sparse matrix\n",
    "y = data['label']"
   ]
  },
  {
   "cell_type": "markdown",
   "metadata": {},
   "source": [
    "## Train test split"
   ]
  },
  {
   "cell_type": "code",
   "execution_count": 23,
   "metadata": {},
   "outputs": [],
   "source": [
    "x_train_tfidf , x_test_tfidf, y_train, y_test = train_test_split(x_tfidf,y,test_size = 0.2, random_state =42 )"
   ]
  },
  {
   "cell_type": "markdown",
   "metadata": {},
   "source": [
    "## Model fitting and prediction"
   ]
  },
  {
   "cell_type": "code",
   "execution_count": 24,
   "metadata": {},
   "outputs": [],
   "source": [
    "classifier.fit(x_train_tfidf,y_train)\n",
    "y_pred = classifier.predict(x_test_tfidf)"
   ]
  },
  {
   "cell_type": "code",
   "execution_count": 25,
   "metadata": {},
   "outputs": [
    {
     "data": {
      "text/plain": [
       "0.8674242424242424"
      ]
     },
     "execution_count": 25,
     "metadata": {},
     "output_type": "execute_result"
    }
   ],
   "source": [
    "accuracy_score(y_pred,y_test)"
   ]
  },
  {
   "cell_type": "markdown",
   "metadata": {},
   "source": [
    "# Word 2 Vec Model"
   ]
  },
  {
   "cell_type": "markdown",
   "metadata": {},
   "source": [
    "### Trying another preprocessing method"
   ]
  },
  {
   "cell_type": "code",
   "execution_count": 26,
   "metadata": {},
   "outputs": [],
   "source": [
    "x = data['tweet'].apply(lambda x: simple_preprocess(x))\n",
    "y = data['label']"
   ]
  },
  {
   "cell_type": "code",
   "execution_count": 27,
   "metadata": {},
   "outputs": [
    {
     "data": {
      "text/plain": [
       "id\n",
       "1                 [fingerprint, pregnancy, test, https, goo, gl, mfqv, android, apps, beautiful, cute, health, igers, iphoneonly, iphonesia, iphone]\n",
       "2                  [finally, transparant, silicon, case, thanks, to, my, uncle, yay, sony, xperia, sonyexperias, http, instagram, com, yget, jc, jm]\n",
       "3                       [we, love, this, would, you, go, talk, makememories, unplug, relax, iphone, smartphone, wifi, connect, http, fb, me, lsupcu]\n",
       "4                                                  [wired, know, george, was, made, that, way, iphone, cute, daventry, home, http, instagr, am, li_]\n",
       "5                    [what, amazing, service, apple, won, even, talk, to, me, about, question, have, unless, pay, them, for, their, stupid, support]\n",
       "                                                                            ...                                                                     \n",
       "7916                                    [live, out, loud, lol, liveoutloud, selfie, smile, sony, music, headphones, https, instagram, com, spinsj_c]\n",
       "7917       [we, would, like, to, wish, you, an, amazing, day, make, every, minute, count, tls, today, iphone, accessories, news, life, february, at]\n",
       "7918    [helping, my, lovely, year, old, neighbor, with, her, ipad, this, morning, has, just, made, me, realise, that, don, actually, need, an, pad]\n",
       "7919               [finally, got, my, smart, pocket, wifi, stay, connected, anytime, anywhere, ipad, and, samsung, gadget, http, instagr, am, g_vju]\n",
       "7920                  [apple, barcelona, apple, store, bcn, barcelona, travel, iphone, selfie, fly, fun, cabincrew, http, instagram, com, wbapvzpcl]\n",
       "Name: tweet, Length: 7920, dtype: object"
      ]
     },
     "execution_count": 27,
     "metadata": {},
     "output_type": "execute_result"
    }
   ],
   "source": [
    "x"
   ]
  },
  {
   "cell_type": "markdown",
   "metadata": {},
   "source": [
    "### Applying W2V"
   ]
  },
  {
   "cell_type": "code",
   "execution_count": 28,
   "metadata": {},
   "outputs": [],
   "source": [
    "w2v = Word2Vec(x, min_count=1,vector_size=100)"
   ]
  },
  {
   "cell_type": "code",
   "execution_count": 29,
   "metadata": {},
   "outputs": [
    {
     "name": "stdout",
     "output_type": "stream",
     "text": [
      "iphone [-0.4677379   1.0345596   0.16269268  0.3365102  -0.02488126 -1.2513467\n",
      "  0.9100487   3.2390327  -1.4216112  -0.9046809  -0.14559744 -1.5344481\n",
      " -0.3128335   0.41446143 -0.12406942 -0.7105876   0.6762021  -1.1055255\n",
      " -0.818228   -2.217816    0.81295246  0.27484772  0.9846966  -0.6422678\n",
      " -0.32317358  0.16323045 -0.5527937  -0.5150499  -0.03225864  0.7850146\n",
      "  1.0603211   0.08075164  0.5548768  -1.7936219  -0.35320923  1.142362\n",
      "  0.1726364  -0.71893185 -0.63620234 -2.076524    0.2609849  -0.41180578\n",
      " -0.32335415  0.55975825  0.61651623 -0.05456543 -1.2998763  -0.04069421\n",
      "  0.81606174  0.91721505  0.23087724 -1.0206473  -0.2810538   0.139958\n",
      " -0.6365948  -0.04925267  0.66202253 -0.25269008 -0.9787175   0.7062921\n",
      " -0.12404737  0.040871    0.34122884 -0.26930675 -1.8728644   1.1735011\n",
      "  0.2651269   0.8629392  -1.136658    0.90629184 -0.4684563   0.358729\n",
      "  1.118378   -0.45654884  1.0941231  -0.32067513  0.6411822   0.04849484\n",
      " -1.1220155   0.21352488 -1.0930827  -0.42299268 -1.2532737   0.7491917\n",
      " -0.7462093  -0.4652499   0.20219177  0.681846    1.0418416   0.17677017\n",
      "  1.0040232   0.50140077  0.23605175  0.57067853  2.5126812   1.0736171\n",
      "  0.05452015 -1.1245471   0.507122    0.072359  ]\n",
      "http [-0.47817367  1.8581766   0.45264944  1.5105495   0.3783515  -1.0798572\n",
      "  0.9983159   3.4412482  -2.080814   -1.1607373  -0.29843992 -2.0747175\n",
      " -0.36155778  0.5337178   0.55870324 -0.8482694   1.2134292  -1.3606002\n",
      " -1.8477488  -3.0004404  -0.04964538  0.6988839   1.4041933  -1.1726828\n",
      " -0.37533298 -0.19752744 -1.0475172  -0.6564638   0.14022931  1.6017728\n",
      "  2.458049   -0.78214544  0.931652   -2.9215376  -0.618963    1.6052121\n",
      "  0.6493688  -1.0251431  -0.30650923 -2.759883    0.69367474 -1.2177012\n",
      " -1.1911799   1.6335353   0.5987062   0.80181867 -1.3212084  -0.4209555\n",
      "  1.0383518   1.5115772   0.6520888  -2.2369304  -0.07274809  0.65904325\n",
      " -1.9319674   0.58775014  1.0399239   0.14910524 -1.4369397   0.735173\n",
      " -0.4661921   0.54007125  0.7234798  -0.49429792 -2.0835238   2.1660204\n",
      "  0.22787848  1.1030227  -1.6932807   0.8903558  -0.03018639  1.1915883\n",
      "  1.962649   -0.0807023   0.49275047 -0.8138005   0.43866637 -0.29878265\n",
      " -0.13397531  0.0161085  -1.7398088  -1.5846553  -1.285027   -0.08085126\n",
      " -0.60643387 -0.9879727  -0.3525976  -0.6111185   1.5435959   0.50337136\n",
      "  1.3252496   0.39021555 -0.30854133  0.20266081  2.6581845   1.9628133\n",
      "  0.50562197 -0.9977589  -0.25658807  0.18935013]\n",
      "com [-0.4134039   1.1634617  -0.09674228  0.57424253  0.98595923 -1.05694\n",
      "  0.32953966  3.248823   -2.4746723  -0.54801726 -0.2705822  -2.052662\n",
      " -0.22271739  0.6946829   0.63658226 -1.6075916   1.1233531  -1.2447232\n",
      " -2.1832588  -2.9559596  -0.2719359   0.86992633  1.0886426  -0.8699046\n",
      "  0.17129752 -0.6048717  -0.14955527  0.14831688 -0.6390784   0.9449497\n",
      "  2.3366117  -1.0378863  -0.5707551  -2.5583327  -0.7435396   1.187406\n",
      "  1.1677665  -0.5727144  -0.3060041  -2.7577827  -0.10728817 -1.7264578\n",
      " -1.2532943   1.5751272   1.1102809   1.0069045  -1.9565912   0.08537193\n",
      "  0.982867    1.0227646   0.55709904 -2.0485437   0.23477681  0.36640242\n",
      " -2.4589076  -0.0376684   1.022892   -0.5616654  -1.8042059   0.256804\n",
      "  0.2835446   0.34003603  1.6869162  -0.3055747  -2.3913746   2.1302943\n",
      "  0.01277655  1.6790867  -2.1744974   1.2218509   0.6023522   1.9736009\n",
      "  1.7935911  -0.16158345  0.569875   -0.28180113  0.5980476  -0.28454155\n",
      " -0.5875799   0.28093153 -1.0083556  -1.9286144  -1.8994228   0.01358417\n",
      " -0.54812217 -0.89372116 -1.2139059  -0.11471376  1.9298564   0.7262589\n",
      "  0.9981869   1.1820164   0.5811922   0.18017522  3.621032    2.6638484\n",
      "  1.3750113  -1.605365   -0.3772249  -0.6031577 ]\n",
      "apple [-0.47561914  0.48247704 -0.05819277 -0.6051394   0.09037892 -1.7719945\n",
      "  0.48337838  2.9099793  -1.0984159  -0.9950131  -0.01576412 -1.2473822\n",
      " -0.42310947  0.29333603 -0.03543211 -0.64536315  0.48480752 -1.2164397\n",
      " -0.22658217 -2.5652726   0.4857712   0.42600212  1.4432011  -0.602078\n",
      " -0.17523713 -0.2192232  -0.75477326  0.25229692 -0.5880696   0.05509465\n",
      "  0.9834695   1.0566739   0.51569444 -1.2026458  -0.7575752   1.3863157\n",
      "  0.068592   -1.1824926  -1.3652376  -2.0431507   0.52664834 -0.978386\n",
      " -0.2765835   0.10103656  1.1645654  -0.43046507 -1.3259128  -0.33868733\n",
      "  0.9707842   1.0589504   0.05485578 -1.0103686  -0.16314755 -0.10247701\n",
      " -0.8259812   0.5924378  -0.3274555  -0.16959992 -0.919695    1.0239233\n",
      "  0.4777483  -0.10022792  0.45874822  0.09798939 -1.9259247   0.98104405\n",
      "  0.1656042   0.72937906 -1.0405711   1.2972784  -0.6855943   0.80075103\n",
      "  1.167573    0.12057865  1.739047    0.09793884  0.8187422  -0.4440506\n",
      " -0.9832071   0.28870958 -0.78010803 -0.51190275 -1.8683469   1.783804\n",
      " -0.8210595  -0.10345854  0.65574473  1.1795801   1.0778196   0.4272453\n",
      "  0.8841936   0.5106755   0.32343802  0.7608847   2.1648233   0.79259974\n",
      "  0.39421988 -0.9308681   0.62488127 -0.46887174]\n",
      "my [-7.5745726e-01  2.7231261e-01 -1.6154610e-01 -1.1079606e+00\n",
      " -8.4617853e-02 -1.9976910e+00  7.3385811e-01  2.8487349e+00\n",
      " -7.7557522e-01 -9.7190279e-01 -4.3949464e-01 -9.7960460e-01\n",
      " -1.3934630e-01  8.1218891e-02  1.7088158e-02 -7.9560930e-01\n",
      "  6.7354029e-01 -1.1595031e+00  5.0441158e-01 -3.2975745e+00\n",
      "  8.6387295e-01  5.5252099e-01  1.8025428e+00 -6.2625253e-01\n",
      "  1.9805131e-03 -3.8383538e-01 -1.0234743e+00  4.8863590e-01\n",
      " -8.1494272e-01 -1.4491211e-01  5.4262936e-01  1.9820098e+00\n",
      "  9.8962814e-01 -8.5288662e-01 -6.6563290e-01  1.4142978e+00\n",
      " -3.8421854e-01 -1.5512462e+00 -1.6095468e+00 -2.1187387e+00\n",
      "  7.8721768e-01 -1.2046804e+00 -1.1815597e-01 -3.2356164e-01\n",
      "  1.6454649e+00 -1.3002963e+00 -1.3295015e+00 -6.5193307e-01\n",
      "  1.1975452e+00  8.1558633e-01  2.5899428e-01 -6.4718366e-01\n",
      " -2.6593465e-01 -3.1699908e-01 -4.7950861e-01  7.7821028e-01\n",
      " -9.9647522e-01 -5.3586370e-01 -5.6410462e-01  1.3696705e+00\n",
      "  4.0312111e-01 -4.1199961e-01  4.3746865e-01  3.6484328e-01\n",
      " -2.0204818e+00  1.0606813e+00  5.1489568e-01  7.8535789e-01\n",
      " -1.4253901e+00  1.6836685e+00 -1.0482481e+00  1.0933491e+00\n",
      "  1.2271404e+00  5.1355606e-01  1.9417247e+00  4.6541855e-01\n",
      "  1.0685941e+00 -8.5704488e-01 -1.0823283e+00  3.0154863e-01\n",
      " -6.0985041e-01 -3.6662176e-01 -1.9088943e+00  2.9824224e+00\n",
      " -6.3086760e-01 -1.2459236e-02  1.4005051e+00  1.3806773e+00\n",
      "  8.7265056e-01  6.9054919e-01  1.1173974e+00  1.8840554e-01\n",
      "  6.2016571e-01  7.3693305e-01  2.0023682e+00  3.4741685e-01\n",
      "  8.3319926e-01 -6.3160902e-01  8.5885918e-01 -1.9201724e-01]\n",
      "instagram [-0.35361144  1.5252829   0.2902402   0.88936645  0.4823385  -1.1876798\n",
      "  0.79035497  3.1819777  -1.8938332  -1.2657406  -0.19594319 -1.845925\n",
      " -0.58294535  0.25216895  0.41077092 -1.4567207   0.8791224  -1.584812\n",
      " -1.7598134  -2.88213    -0.24658959  0.83760494  1.108575   -0.47429928\n",
      " -0.27848667 -0.5914151  -0.6101687  -0.35676897 -0.23921509  1.3265624\n",
      "  2.0935857  -1.193578   -0.08616679 -2.5770478  -0.62055093  1.4527723\n",
      "  1.1530161  -0.68031245 -0.2468915  -2.7620587   0.35097945 -1.8244481\n",
      " -1.3674324   1.5362906   0.71507514  0.62992454 -1.521057    0.2609197\n",
      "  0.77780545  1.0269041   0.9289997  -2.123932    0.5510159   0.8036069\n",
      " -2.3572564   0.2658165   1.3707343  -0.49188283 -1.7005032   0.08094826\n",
      " -0.00976309  0.37995955  1.4524883  -0.58631146 -1.8328171   2.154197\n",
      "  0.14729081  1.6446396  -2.1625383   0.72655493  0.28007716  1.9603317\n",
      "  1.9160608   0.02706183  0.4161105  -0.03699638 -0.08808886 -0.15628521\n",
      " -0.42171216  0.24844602 -0.8117109  -1.4890372  -0.9778227  -0.30956027\n",
      " -0.31859636 -0.9639008  -1.0297161  -0.00853551  1.6206249   0.77889454\n",
      "  1.6586044   0.99930686 -0.42351374  0.01443128  3.196915    2.226728\n",
      "  0.9003883  -1.3022362  -0.5292834  -0.19429702]\n",
      "the [-0.5544538   0.24597205 -0.21967983 -0.98801774 -0.00647267 -2.1024592\n",
      "  0.6415772   2.7846181  -0.8201877  -1.0163176  -0.12888643 -0.99509805\n",
      " -0.20326859  0.2829429  -0.06138028 -0.52549326  0.7055523  -1.239528\n",
      "  0.46641982 -3.080539    0.71707785  0.6354457   1.6577967  -0.71253103\n",
      "  0.03924417 -0.27551866 -0.9943071   0.5673307  -0.9395531  -0.25864923\n",
      "  0.8146986   2.0378106   0.67832977 -0.8306376  -0.8984388   1.633373\n",
      " -0.22520371 -1.6594687  -1.849746   -2.1899319   0.82651657 -1.2713563\n",
      " -0.1514978  -0.35622373  1.5847666  -0.9556008  -1.3998942  -0.621321\n",
      "  1.0734425   0.8882635   0.18796138 -0.7247251  -0.3167153  -0.21099222\n",
      " -0.6089086   0.80009556 -0.7962695  -0.32590404 -0.8545825   1.2307882\n",
      "  0.47550097 -0.262913    0.31614953  0.31624743 -1.9310107   1.0986296\n",
      "  0.30335665  0.5455011  -1.2953168   1.5943094  -1.0895311   0.9482127\n",
      "  1.1815003   0.45110232  2.0058405   0.4060651   0.97837925 -0.6804116\n",
      " -1.0475724   0.31940663 -0.61029965 -0.34021276 -2.0008354   2.764163\n",
      " -0.8194644   0.19897287  1.2412379   1.4419307   0.940231    0.623023\n",
      "  1.1165826   0.3754777   0.29072955  0.8098026   1.8586272   0.35117292\n",
      "  0.68504024 -0.745286    0.9087874  -0.29981142]\n",
      "to [-0.47600132  0.26176885 -0.01928723 -0.92055815  0.00700244 -2.473155\n",
      "  0.7459934   3.0473475  -0.7336056  -1.2577617  -0.11004537 -1.0927578\n",
      " -0.05966384  0.33630046 -0.08978692 -0.42510083  0.83879983 -1.4530637\n",
      "  0.6690004  -3.4091935   0.953593    0.8623131   1.671131   -0.8815114\n",
      "  0.09075376 -0.12611489 -1.0625303   0.72055155 -1.0118794  -0.20547056\n",
      "  0.7269048   2.4385126   0.57284987 -0.81336546 -1.0048337   1.9259048\n",
      " -0.0740355  -1.8427378  -2.2817237  -2.3507786   1.0795999  -1.4266908\n",
      " -0.19100375 -0.5084801   1.7406048  -1.1160866  -1.6252899  -0.627075\n",
      "  1.0353277   0.73507047  0.37027285 -0.5542298  -0.37477383 -0.12158988\n",
      " -0.5934996   1.0208594  -0.65504456 -0.31775793 -0.9205114   1.4060688\n",
      "  0.4406568  -0.29638317  0.23670569  0.3764172  -1.8261429   1.2129766\n",
      "  0.353603    0.58140486 -1.5273806   1.8879044  -1.3164798   0.96641207\n",
      "  1.1224402   0.4618762   2.111054    0.67663544  0.9355241  -0.7143615\n",
      " -1.3145832   0.42171326 -0.6388018  -0.03201976 -1.9863833   3.1252072\n",
      " -0.8956277   0.53008306  1.2669423   1.8136922   1.1876249   0.715698\n",
      "  1.5588758   0.41377357  0.07809949  0.90928346  1.8726801   0.139603\n",
      "  0.5939356  -0.76911044  1.0131708  -0.08677464]\n",
      "samsung [-0.75452197  1.0265987   0.23611821  0.05081893  0.18628767 -1.1478821\n",
      "  0.65048605  2.6985505  -1.7610977  -0.62697756 -0.66103256 -1.5837247\n",
      " -0.304375   -0.18378471  0.49384755 -1.6114116   0.5863554  -0.9701009\n",
      " -1.3835726  -3.1107018   0.04583376  0.45523545  1.99672    -0.83715194\n",
      " -0.17171256 -0.7577373  -0.78021705 -0.44669974  0.0287491   0.676557\n",
      "  1.3896707  -0.13509032  1.3090705  -1.9377351  -0.34371     0.8272511\n",
      " -0.12754104 -0.9146356  -0.15441939 -2.5029476   0.1882919  -1.0325373\n",
      " -0.6568243   1.0605532   0.9106099  -0.18288761 -1.2022123  -0.31423733\n",
      "  1.2656037   1.1150109   0.23385532 -1.7055141   0.49591485  0.07351128\n",
      " -1.7668505   0.40239707 -0.27634865 -0.20899378 -0.6320674   1.1417707\n",
      "  0.30724418 -0.19065915  1.1581755  -0.04367504 -2.2627618   1.5410296\n",
      "  0.3495936   1.5558734  -1.784041    0.9094565  -0.11472655  1.725241\n",
      "  1.8349612   0.21772364  1.0705761  -0.4681199   0.79236495 -0.9619276\n",
      " -0.51665354  0.2530229  -0.9139613  -1.6476176  -1.7302145   1.0590149\n",
      " -0.36241117 -1.1421947   0.34997782 -0.13150515  1.3508874   0.7510643\n",
      "  0.69101614  0.18041371  0.7112758   0.40942258  3.0618162   1.8546576\n",
      "  0.98560244 -0.78165907 -0.03094686 -0.59429705]\n",
      "it [-4.7882673e-01  2.8581285e-01 -8.6773105e-02 -8.1753850e-01\n",
      " -7.3163792e-02 -2.0708737e+00  5.2187139e-01  2.8628919e+00\n",
      " -8.6159647e-01 -1.0659702e+00 -6.8628110e-02 -1.0159206e+00\n",
      " -2.1221943e-01  2.4531557e-01 -8.8338561e-02 -4.2543229e-01\n",
      "  5.5970395e-01 -1.1656398e+00  2.8181466e-01 -2.9212954e+00\n",
      "  7.6603884e-01  5.2495772e-01  1.5958329e+00 -7.7003050e-01\n",
      "  3.6166917e-04 -2.5290507e-01 -9.7345787e-01  3.6980167e-01\n",
      " -6.9547528e-01 -8.1797011e-02  7.3060757e-01  1.9190139e+00\n",
      "  7.8713453e-01 -8.7090117e-01 -9.4515264e-01  1.5215797e+00\n",
      " -3.0300903e-01 -1.5047698e+00 -1.6337276e+00 -2.0632775e+00\n",
      "  8.9788437e-01 -1.0271466e+00 -1.3298297e-01 -2.3694031e-01\n",
      "  1.3373114e+00 -8.6853510e-01 -1.3667334e+00 -6.2381846e-01\n",
      "  1.0011899e+00  1.0393296e+00  1.4621389e-01 -7.0382017e-01\n",
      " -2.8092232e-01 -1.7868884e-01 -6.3572663e-01  7.9856020e-01\n",
      " -6.9692892e-01 -1.7184125e-01 -6.7880577e-01  1.3052133e+00\n",
      "  5.1752990e-01 -2.2292720e-01  2.1640708e-01  2.6900214e-01\n",
      " -1.9003377e+00  9.4295359e-01  2.5828123e-01  4.3243352e-01\n",
      " -1.0910372e+00  1.5455025e+00 -1.0053031e+00  7.3582572e-01\n",
      "  1.0608230e+00  2.2251549e-01  2.0460761e+00  1.6539668e-01\n",
      "  9.1397446e-01 -6.8107539e-01 -1.0654820e+00  4.1159299e-01\n",
      " -6.9167048e-01 -3.2477877e-01 -2.0173995e+00  2.5260792e+00\n",
      " -8.8637269e-01  2.3995957e-01  1.1003658e+00  1.4503182e+00\n",
      "  1.0528088e+00  5.0610411e-01  9.7827065e-01  2.4030052e-01\n",
      "  3.6788222e-01  8.6725456e-01  1.8773520e+00  3.1961939e-01\n",
      "  3.4798816e-01 -6.8781543e-01  8.9593816e-01 -3.5534716e-01]\n"
     ]
    }
   ],
   "source": [
    "for i in range(10):\n",
    "    print(w2v.wv.index_to_key[i], w2v.wv[i])   #index to key returns the list of words corresponding to keys"
   ]
  },
  {
   "cell_type": "code",
   "execution_count": 30,
   "metadata": {},
   "outputs": [
    {
     "data": {
      "text/plain": [
       "(7920, 100)"
      ]
     },
     "execution_count": 30,
     "metadata": {},
     "output_type": "execute_result"
    }
   ],
   "source": [
    "# x_w2v = []\n",
    "# x_w2v_doc = []\n",
    "\n",
    "\n",
    "# for doc in x:\n",
    "#     for word in doc:\n",
    "#         if word in words:\n",
    "#             x_w2v_doc.append(w2v.wv[word])\n",
    "  \n",
    "#     x_w2v.append(np.array(x_w2v_doc).mean(axis = 0))\n",
    "\n",
    "# x_w2v = np.array(x_w2v)\n",
    "\n",
    "# Since list comprehension is musch faster , conver/ting the same function above to a more concise form\n",
    "words= w2v.wv.index_to_key\n",
    "x_w2v = np.array([np.array([w2v.wv[word] for word in doc if word in words]).mean(axis = 0) for doc in x])\n",
    "x_w2v.shape\n",
    "\n"
   ]
  },
  {
   "cell_type": "markdown",
   "metadata": {},
   "source": [
    "### Train test split"
   ]
  },
  {
   "cell_type": "code",
   "execution_count": 31,
   "metadata": {},
   "outputs": [
    {
     "data": {
      "text/plain": [
       "(6336, 100)"
      ]
     },
     "execution_count": 31,
     "metadata": {},
     "output_type": "execute_result"
    }
   ],
   "source": [
    "x_train_w2v , x_test_w2v, y_train, y_test = train_test_split(x_w2v,y,test_size = 0.2, random_state = 42,stratify=y)\n",
    "x_train_w2v.shape"
   ]
  },
  {
   "cell_type": "markdown",
   "metadata": {},
   "source": [
    "### Model fitting and Prediction"
   ]
  },
  {
   "cell_type": "code",
   "execution_count": 32,
   "metadata": {},
   "outputs": [],
   "source": [
    "classifier.fit(x_train_w2v,y_train)\n",
    "y_pred = classifier.predict(x_test_w2v)"
   ]
  },
  {
   "cell_type": "code",
   "execution_count": 33,
   "metadata": {},
   "outputs": [
    {
     "data": {
      "text/plain": [
       "0.8636363636363636"
      ]
     },
     "execution_count": 33,
     "metadata": {},
     "output_type": "execute_result"
    }
   ],
   "source": [
    "accuracy_score(y_pred,y_test)"
   ]
  },
  {
   "cell_type": "code",
   "execution_count": 34,
   "metadata": {},
   "outputs": [],
   "source": [
    "results = multiple_model_fit(x_train_w2v,x_test_w2v,y_train,y_test)"
   ]
  },
  {
   "cell_type": "code",
   "execution_count": 35,
   "metadata": {},
   "outputs": [
    {
     "name": "stdout",
     "output_type": "stream",
     "text": [
      "RandomForestClassifier : {'train_acc': 0.9996843434343434, 'cross_val_acc': 0.8628465421781014, 'test_acc': 0.8674242424242424}\n",
      "DecisionTreeClassifier : {'train_acc': 1.0, 'cross_val_acc': 0.8154927963082015, 'test_acc': 0.82260101010101}\n",
      "LogisticRegression : {'train_acc': 0.8726325757575758, 'cross_val_acc': 0.8727899292837173, 'test_acc': 0.8712121212121212}\n",
      "KNeighborsClassifier : {'train_acc': 0.8915719696969697, 'cross_val_acc': 0.8518005491849439, 'test_acc': 0.8529040404040404}\n",
      "AdaBoostClassifier : {'train_acc': 0.8672664141414141, 'cross_val_acc': 0.8655286777201351, 'test_acc': 0.865530303030303}\n",
      "BaggingClassifier : {'train_acc': 0.9895833333333334, 'cross_val_acc': 0.8472179446927903, 'test_acc': 0.8566919191919192}\n",
      "XGBClassifier : {'train_acc': 1.0, 'cross_val_acc': 0.8622151289986595, 'test_acc': 0.865530303030303}\n"
     ]
    }
   ],
   "source": [
    "for key,value in results.items():\n",
    "    print(key,':',value)"
   ]
  },
  {
   "cell_type": "markdown",
   "metadata": {},
   "source": [
    "some of the models above are overfitted while others are giving good results"
   ]
  },
  {
   "cell_type": "markdown",
   "metadata": {},
   "source": [
    "# Pre Trained Models\n"
   ]
  },
  {
   "cell_type": "code",
   "execution_count": 36,
   "metadata": {},
   "outputs": [],
   "source": [
    "glove_vectors = gensim.downloader.load('glove-twitter-25')"
   ]
  },
  {
   "cell_type": "code",
   "execution_count": 37,
   "metadata": {},
   "outputs": [
    {
     "data": {
      "text/plain": [
       "(7920, 25)"
      ]
     },
     "execution_count": 37,
     "metadata": {},
     "output_type": "execute_result"
    }
   ],
   "source": [
    "# Converting the words to vectors and taking avg to represent sentences\n",
    "\n",
    "words= glove_vectors.index_to_key\n",
    "x_glove = np.array([np.array([glove_vectors[word] for word in doc if word in words]).mean(axis = 0) for doc in x])\n",
    "x_glove.shape"
   ]
  },
  {
   "cell_type": "markdown",
   "metadata": {},
   "source": [
    "### Train test split"
   ]
  },
  {
   "cell_type": "code",
   "execution_count": 38,
   "metadata": {},
   "outputs": [],
   "source": [
    "x_train_glove , x_test_glove, y_train, y_test = train_test_split(x_glove,y,test_size =0.2 , random_state = 0)"
   ]
  },
  {
   "cell_type": "markdown",
   "metadata": {},
   "source": [
    "### Model fitting and prediction"
   ]
  },
  {
   "cell_type": "code",
   "execution_count": 39,
   "metadata": {},
   "outputs": [
    {
     "data": {
      "text/plain": [
       "0.8863636363636364"
      ]
     },
     "execution_count": 39,
     "metadata": {},
     "output_type": "execute_result"
    }
   ],
   "source": [
    "classifier.fit(x_train_glove,y_train)\n",
    "y_pred = classifier.predict(x_test_glove)\n",
    "accuracy_score(y_pred,y_test)"
   ]
  },
  {
   "cell_type": "code",
   "execution_count": 40,
   "metadata": {},
   "outputs": [],
   "source": [
    "results = multiple_model_fit(x_train_glove,x_test_glove,y_train,y_test)"
   ]
  },
  {
   "cell_type": "code",
   "execution_count": 41,
   "metadata": {},
   "outputs": [
    {
     "name": "stdout",
     "output_type": "stream",
     "text": [
      "RandomForestClassifier : {'train_acc': 0.9996843434343434, 'cross_val_acc': 0.8781579380148609, 'test_acc': 0.8787878787878788}\n",
      "DecisionTreeClassifier : {'train_acc': 0.9998421717171717, 'cross_val_acc': 0.8125039245294303, 'test_acc': 0.8314393939393939}\n",
      "LogisticRegression : {'train_acc': 0.8849431818181818, 'cross_val_acc': 0.8836794394526091, 'test_acc': 0.8838383838383839}\n",
      "KNeighborsClassifier : {'train_acc': 0.9078282828282829, 'cross_val_acc': 0.8694798690328465, 'test_acc': 0.875}\n",
      "AdaBoostClassifier : {'train_acc': 0.8779987373737373, 'cross_val_acc': 0.867111197492288, 'test_acc': 0.8699494949494949}\n",
      "BaggingClassifier : {'train_acc': 0.9917929292929293, 'cross_val_acc': 0.8593772581617752, 'test_acc': 0.8705808080808081}\n",
      "XGBClassifier : {'train_acc': 0.9998421717171717, 'cross_val_acc': 0.8789460831950404, 'test_acc': 0.8781565656565656}\n"
     ]
    }
   ],
   "source": [
    "for key,value in results.items():\n",
    "    print(key,':',value)"
   ]
  },
  {
   "cell_type": "markdown",
   "metadata": {},
   "source": [
    "some of the models above are overfitted while others are giving good results"
   ]
  },
  {
   "cell_type": "markdown",
   "metadata": {},
   "source": []
  }
 ],
 "metadata": {
  "kernelspec": {
   "display_name": "base",
   "language": "python",
   "name": "python3"
  },
  "language_info": {
   "codemirror_mode": {
    "name": "ipython",
    "version": 3
   },
   "file_extension": ".py",
   "mimetype": "text/x-python",
   "name": "python",
   "nbconvert_exporter": "python",
   "pygments_lexer": "ipython3",
   "version": "3.12.3"
  }
 },
 "nbformat": 4,
 "nbformat_minor": 2
}
